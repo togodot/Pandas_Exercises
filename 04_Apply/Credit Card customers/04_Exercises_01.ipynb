{
 "cells": [
  {
   "cell_type": "markdown",
   "id": "30a7f25c",
   "metadata": {},
   "source": [
    "# Apply #1"
   ]
  },
  {
   "cell_type": "code",
   "execution_count": 1,
   "id": "071dced3",
   "metadata": {},
   "outputs": [],
   "source": [
    "import pandas as pd"
   ]
  },
  {
   "cell_type": "markdown",
   "id": "a5b47682",
   "metadata": {},
   "source": [
    "### 1. 데이터를 로드하고 데이터 행과 열의 갯수를 출력하라"
   ]
  },
  {
   "cell_type": "code",
   "execution_count": 2,
   "id": "9c312a33",
   "metadata": {},
   "outputs": [
    {
     "data": {
      "text/plain": [
       "(10127, 18)"
      ]
     },
     "execution_count": 2,
     "metadata": {},
     "output_type": "execute_result"
    }
   ],
   "source": [
    "df = pd.read_csv('https://raw.githubusercontent.com/Datamanim/pandas/main/BankChurnersUp.csv',index_col=0)\n",
    "df.shape"
   ]
  },
  {
   "cell_type": "markdown",
   "id": "8467ced4",
   "metadata": {},
   "source": [
    "### 2. Income_Category의 카테고리를 map 함수를 이용하여 다음과 같이 변경하여 newIncome 컬럼에 매핑하라  \n",
    "    Unknown : N  \n",
    "    Less than $40K : a\n",
    "    $40K - $60K : b\n",
    "    $60K - $80K : c  \n",
    "    $80K - $120K : d  \n",
    "    $120K +’ : e  "
   ]
  },
  {
   "cell_type": "code",
   "execution_count": 3,
   "id": "254f6b02",
   "metadata": {},
   "outputs": [
    {
     "name": "stderr",
     "output_type": "stream",
     "text": [
      "<ipython-input-3-e6a9f3fc42f6>:3: UserWarning: Pandas doesn't allow columns to be created via a new attribute name - see https://pandas.pydata.org/pandas-docs/stable/indexing.html#attribute-access\n",
      "  df.newIncome = df.Income_Category.map(x)\n"
     ]
    },
    {
     "data": {
      "text/plain": [
       "0        c\n",
       "1        a\n",
       "2        d\n",
       "3        a\n",
       "4        c\n",
       "        ..\n",
       "10122    b\n",
       "10123    b\n",
       "10124    a\n",
       "10125    b\n",
       "10126    a\n",
       "Name: Income_Category, Length: 10127, dtype: object"
      ]
     },
     "execution_count": 3,
     "metadata": {},
     "output_type": "execute_result"
    }
   ],
   "source": [
    "x = pd.Series({'Unknown':'N', 'Less than $40K':'a', '$40K - $60K':'b', \n",
    "               '$60K - $80K':'c', '$80K - $120K':'d', '$120K +':'e'})\n",
    "df.newIncome = df.Income_Category.map(x)\n",
    "df.newIncome"
   ]
  },
  {
   "cell_type": "code",
   "execution_count": 4,
   "id": "c85fdfb6",
   "metadata": {},
   "outputs": [
    {
     "data": {
      "text/plain": [
       "0        c\n",
       "1        a\n",
       "2        d\n",
       "3        a\n",
       "4        c\n",
       "        ..\n",
       "10122    b\n",
       "10123    b\n",
       "10124    a\n",
       "10125    b\n",
       "10126    a\n",
       "Name: newIncome, Length: 10127, dtype: object"
      ]
     },
     "execution_count": 4,
     "metadata": {},
     "output_type": "execute_result"
    }
   ],
   "source": [
    "dic = {\n",
    "    'Unknown'        : 'N',\n",
    "    'Less than $40K' : 'a',\n",
    "    '$40K - $60K'    : 'b',\n",
    "    '$60K - $80K'    : 'c',\n",
    "    '$80K - $120K'   : 'd',\n",
    "    '$120K +'        : 'e'   \n",
    "}\n",
    "\n",
    "df['newIncome'] = df.Income_Category.map(lambda x: dic[x])\n",
    "\n",
    "Ans = df['newIncome']\n",
    "Ans"
   ]
  },
  {
   "cell_type": "markdown",
   "id": "73db32a9",
   "metadata": {},
   "source": [
    "### 3. Income_Category의 카테고리를 apply 함수를 이용하여 다음과 같이 변경하여 newIncome 컬럼에 매핑하라\n",
    "    Unknown : N\n",
    "    Less than $40K : a  \n",
    "    $40K - $60K : b  \n",
    "    $60K - $80K : c  \n",
    "    $80K - $120K : d  \n",
    "    $120K +’ : e  "
   ]
  },
  {
   "cell_type": "code",
   "execution_count": 5,
   "id": "0e1570b8",
   "metadata": {},
   "outputs": [
    {
     "data": {
      "text/plain": [
       "0        c\n",
       "1        a\n",
       "2        d\n",
       "3        a\n",
       "4        c\n",
       "        ..\n",
       "10122    b\n",
       "10123    b\n",
       "10124    a\n",
       "10125    b\n",
       "10126    a\n",
       "Name: newIncome, Length: 10127, dtype: object"
      ]
     },
     "execution_count": 5,
     "metadata": {},
     "output_type": "execute_result"
    }
   ],
   "source": [
    "def changeCategory(x):\n",
    "    if x =='Unknown':\n",
    "        return 'N'\n",
    "    elif x =='Less than $40K':\n",
    "        return 'a'\n",
    "    elif x =='$40K - $60K':   \n",
    "        return 'b'\n",
    "    elif x =='$60K - $80K':    \n",
    "        return 'c'\n",
    "    elif x =='$80K - $120K':   \n",
    "        return 'd'\n",
    "    elif x =='$120K +' :     \n",
    "        return 'e'\n",
    "\n",
    "df['newIncome'] = df.Income_Category.apply(changeCategory)\n",
    "\n",
    "Ans = df['newIncome']\n",
    "Ans"
   ]
  },
  {
   "cell_type": "markdown",
   "id": "02cba8f3",
   "metadata": {},
   "source": [
    "### 4. Customer_Age의 값을 이용하여 나이 구간을 AgeState 컬럼으로 정의하라.\n",
    "    (0~9 : 0 , 10~19 :10 , 20~29 :20 … 각 구간의 빈도수를 출력하라"
   ]
  },
  {
   "cell_type": "code",
   "execution_count": 6,
   "id": "a7ec91d9",
   "metadata": {},
   "outputs": [
    {
     "data": {
      "text/plain": [
       "20     195\n",
       "30    1841\n",
       "40    4561\n",
       "50    2998\n",
       "60     530\n",
       "70       2\n",
       "Name: AgeState, dtype: int64"
      ]
     },
     "execution_count": 6,
     "metadata": {},
     "output_type": "execute_result"
    }
   ],
   "source": [
    "def changeAge(x):\n",
    "    y = (x // 10) * 10\n",
    "    return y\n",
    "\n",
    "df['AgeState'] = df.Customer_Age.apply(changeAge)\n",
    "df.AgeState.value_counts().sort_index()"
   ]
  },
  {
   "cell_type": "code",
   "execution_count": 7,
   "id": "03e1bdb1",
   "metadata": {},
   "outputs": [
    {
     "data": {
      "text/plain": [
       "20     195\n",
       "30    1841\n",
       "40    4561\n",
       "50    2998\n",
       "60     530\n",
       "70       2\n",
       "Name: AgeState, dtype: int64"
      ]
     },
     "execution_count": 7,
     "metadata": {},
     "output_type": "execute_result"
    }
   ],
   "source": [
    "df['AgeState']  = df.Customer_Age.map(lambda x: x//10 *10)\n",
    "Ans = df['AgeState'].value_counts().sort_index()\n",
    "Ans"
   ]
  },
  {
   "cell_type": "markdown",
   "id": "6c674918",
   "metadata": {},
   "source": [
    "### 5. Education_Level의 값 중 Graduate단어가 포함되는 값은 1 그렇지 않은 경우에는 0으로 변경하여 newEduLevel 컬럼을 정의하고 빈도수를 출력하라"
   ]
  },
  {
   "cell_type": "code",
   "execution_count": 8,
   "id": "530c6205",
   "metadata": {},
   "outputs": [
    {
     "data": {
      "text/plain": [
       "0    6483\n",
       "1    3644\n",
       "Name: newEduLevel, dtype: int64"
      ]
     },
     "execution_count": 8,
     "metadata": {},
     "output_type": "execute_result"
    }
   ],
   "source": [
    "df['newEduLevel'] = df.Education_Level.str.contains('Graduate')\n",
    "df['newEduLevel'] = df['newEduLevel'].map(lambda x: 1 if x==True else 0)\n",
    "df['newEduLevel'].value_counts()"
   ]
  },
  {
   "cell_type": "code",
   "execution_count": 9,
   "id": "581fb35f",
   "metadata": {},
   "outputs": [
    {
     "data": {
      "text/plain": [
       "0    6483\n",
       "1    3644\n",
       "Name: newEduLevel, dtype: int64"
      ]
     },
     "execution_count": 9,
     "metadata": {},
     "output_type": "execute_result"
    }
   ],
   "source": [
    "df['newEduLevel'] = df.Education_Level.map(lambda x : 1 if 'Graduate' in x else 0)\n",
    "Ans = df['newEduLevel'].value_counts()\n",
    "Ans"
   ]
  },
  {
   "cell_type": "markdown",
   "id": "0903a3d3",
   "metadata": {},
   "source": [
    "### 6. Credit_Limit 컬럼값이 4500 이상인 경우 1 그외의 경우에는 모두 0으로 하는 newLimit 정의하라. newLimit 각 값들의 빈도수를 출력하라"
   ]
  },
  {
   "cell_type": "code",
   "execution_count": 10,
   "id": "806d22ee",
   "metadata": {},
   "outputs": [
    {
     "data": {
      "text/plain": [
       "0    5031\n",
       "1    5096\n",
       "Name: newLimit, dtype: int64"
      ]
     },
     "execution_count": 10,
     "metadata": {},
     "output_type": "execute_result"
    }
   ],
   "source": [
    "df['newLimit'] = df.Credit_Limit.map(lambda x: 1 if x >= 4500 else 0)\n",
    "df['newLimit'].value_counts().sort_index()"
   ]
  },
  {
   "cell_type": "code",
   "execution_count": 11,
   "id": "d6ddca30",
   "metadata": {},
   "outputs": [
    {
     "data": {
      "text/plain": [
       "1    5096\n",
       "0    5031\n",
       "Name: newLimit, dtype: int64"
      ]
     },
     "execution_count": 11,
     "metadata": {},
     "output_type": "execute_result"
    }
   ],
   "source": [
    "df['newLimit'] = df.Credit_Limit.map(lambda x : 1 if x>=4500 else 0)\n",
    "Ans = df['newLimit'].value_counts()\n",
    "Ans"
   ]
  },
  {
   "cell_type": "markdown",
   "id": "1a6ef309",
   "metadata": {},
   "source": [
    "### 7. Marital_Status 컬럼값이 Married 이고 Card_Category 컬럼의 값이 Platinum인 경우 1 그외의 경우에는 모두 0으로 하는 newState컬럼을 정의하라. newState의 각 값들의 빈도수를 출력하라"
   ]
  },
  {
   "cell_type": "code",
   "execution_count": 12,
   "id": "c1a601f8",
   "metadata": {},
   "outputs": [
    {
     "data": {
      "text/plain": [
       "0    10120\n",
       "1        7\n",
       "Name: newState, dtype: int64"
      ]
     },
     "execution_count": 12,
     "metadata": {},
     "output_type": "execute_result"
    }
   ],
   "source": [
    "def makeNewState(x):\n",
    "    if x.Marital_Status == 'Married' and x.Card_Category == 'Platinum':\n",
    "        return 1\n",
    "    else:\n",
    "        return 0\n",
    "\n",
    "# df['newState'] = df[['Marital_Status', 'Card_Category']].map(lambda x,y: 1 if x=='Married' and y=='Platinum' else 0)\n",
    "df['newState'] = df.apply(makeNewState, axis=1)\n",
    "df['newState'].value_counts()"
   ]
  },
  {
   "cell_type": "code",
   "execution_count": 13,
   "id": "13974eeb",
   "metadata": {},
   "outputs": [
    {
     "data": {
      "text/plain": [
       "0    10120\n",
       "1        7\n",
       "Name: newState, dtype: int64"
      ]
     },
     "execution_count": 13,
     "metadata": {},
     "output_type": "execute_result"
    }
   ],
   "source": [
    "def check(x):\n",
    "    if x.Marital_Status =='Married' and x.Card_Category =='Platinum':\n",
    "        return 1\n",
    "    else:\n",
    "        return 0\n",
    "\n",
    "\n",
    "df['newState'] = df.apply(check,axis=1)\n",
    "\n",
    "Ans  = df['newState'].value_counts()\n",
    "Ans"
   ]
  },
  {
   "cell_type": "markdown",
   "id": "3046ef0e",
   "metadata": {},
   "source": [
    "### 8. Gender 컬럼값 M인 경우 male F인 경우 female로 값을 변경하여 Gender 컬럼에 새롭게 정의하라. 각 value의 빈도를 출력하라"
   ]
  },
  {
   "cell_type": "code",
   "execution_count": 14,
   "id": "8c88352d",
   "metadata": {},
   "outputs": [
    {
     "data": {
      "text/plain": [
       "female    5358\n",
       "male      4769\n",
       "Name: Gender, dtype: int64"
      ]
     },
     "execution_count": 14,
     "metadata": {},
     "output_type": "execute_result"
    }
   ],
   "source": [
    "df['Gender'] = df.Gender.map(lambda x: 'male' if x == 'M' else 'female')\n",
    "df.Gender.value_counts()"
   ]
  },
  {
   "cell_type": "code",
   "execution_count": 15,
   "id": "75ff43e6",
   "metadata": {},
   "outputs": [],
   "source": [
    "def changeGender(x):\n",
    "    if x =='M':\n",
    "        return 'male'\n",
    "    else:\n",
    "        return 'female'\n",
    "df['Gender'] = df.Gender.apply(changeGender)\n",
    "Ans = df['Gender'].value_counts()\n",
    "Ans"
   ]
  }
 ],
 "metadata": {
  "kernelspec": {
   "display_name": "Python 3",
   "language": "python",
   "name": "python3"
  },
  "language_info": {
   "codemirror_mode": {
    "name": "ipython",
    "version": 3
   },
   "file_extension": ".py",
   "mimetype": "text/x-python",
   "name": "python",
   "nbconvert_exporter": "python",
   "pygments_lexer": "ipython3",
   "version": "3.8.8"
  }
 },
 "nbformat": 4,
 "nbformat_minor": 5
}
